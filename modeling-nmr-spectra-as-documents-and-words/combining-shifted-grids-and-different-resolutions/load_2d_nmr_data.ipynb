{
 "cells": [
  {
   "cell_type": "code",
   "execution_count": 62,
   "metadata": {},
   "outputs": [],
   "source": [
    "import xml.etree.ElementTree as etree\n",
    "import Peak\n",
    "from os import walk\n",
    "from os import listdir\n",
    "from os.path import isfile, join"
   ]
  },
  {
   "cell_type": "code",
   "execution_count": 63,
   "metadata": {
    "collapsed": true
   },
   "outputs": [],
   "source": [
    "peaks = list()\n",
    "data_dir = 'hmdb_data/two_d_nmr_spectra'\n",
    "#get all the filenames in data_sir\n",
    "two_d_nmr_files = [f for f in listdir(data_dir) if isfile(join(data_dir, f))]"
   ]
  },
  {
   "cell_type": "code",
   "execution_count": 65,
   "metadata": {},
   "outputs": [],
   "source": [
    "def get_data():\n",
    "    for f in two_d_nmr_files:\n",
    "        #Read xml file\n",
    "        tree = etree.parse(data_dir+'/'+f)\n",
    "        root = tree.getroot()\n",
    "        nmr_two_d_peaks = tree.findall('nmr-two-d-peaks')\n",
    "\n",
    "        #find the peak tags in the xml file\n",
    "        entries = nmr_two_d_peaks[0].findall(\"nmr-two-d-peak\")\n",
    "\n",
    "        #read the peak values and populate a Peak object\n",
    "        for entry in entries:\n",
    "            p = Peak.Peak()\n",
    "            p.h = entry.find('chemical-shift-x').text\n",
    "            p.x = entry.find('chemical-shift-y').text\n",
    "            p.compound = root.find('id').text\n",
    "            peaks.append(p)\n",
    "    return peaks"
   ]
  },
  {
   "cell_type": "code",
   "execution_count": null,
   "metadata": {
    "collapsed": true
   },
   "outputs": [],
   "source": []
  }
 ],
 "metadata": {
  "kernelspec": {
   "display_name": "Python 3",
   "language": "python",
   "name": "python3"
  },
  "language_info": {
   "codemirror_mode": {
    "name": "ipython",
    "version": 3
   },
   "file_extension": ".py",
   "mimetype": "text/x-python",
   "name": "python",
   "nbconvert_exporter": "python",
   "pygments_lexer": "ipython3",
   "version": "3.6.1"
  }
 },
 "nbformat": 4,
 "nbformat_minor": 2
}
