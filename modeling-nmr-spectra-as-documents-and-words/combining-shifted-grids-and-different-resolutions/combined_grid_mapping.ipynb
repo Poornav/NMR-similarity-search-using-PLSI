{
 "cells": [
  {
   "cell_type": "markdown",
   "metadata": {},
   "source": [
    "### Import libraries"
   ]
  },
  {
   "cell_type": "code",
   "execution_count": 1,
   "metadata": {},
   "outputs": [],
   "source": [
    "import math\n",
    "import sys\n",
    "sys.path.append('../../data')\n",
    "import load_2d_nmr_data\n",
    "import Peak"
   ]
  },
  {
   "cell_type": "markdown",
   "metadata": {},
   "source": [
    "### Initialize all the hyperparameters"
   ]
  },
  {
   "cell_type": "code",
   "execution_count": 2,
   "metadata": {
    "collapsed": true
   },
   "outputs": [],
   "source": [
    "'''w_c = extension of cell in y dimension (height of each cell)\n",
    "   w_h = extension of cell in x dimension (width of each cell) \n",
    "   l = number of resolutions\n",
    "   k = number of shifted grids'''\n",
    "w_c = 4\n",
    "w_h = 0.4\n",
    "l = 2\n",
    "k = 2"
   ]
  },
  {
   "cell_type": "markdown",
   "metadata": {},
   "source": [
    "### Read the NMR data"
   ]
  },
  {
   "cell_type": "code",
   "execution_count": 3,
   "metadata": {},
   "outputs": [],
   "source": [
    "peaks = load_2d_nmr_data.get_data()"
   ]
  },
  {
   "cell_type": "code",
   "execution_count": 4,
   "metadata": {
    "collapsed": true
   },
   "outputs": [],
   "source": [
    "def grid_based_mapping(x,w):\n",
    "    return math.floor(x/w)"
   ]
  },
  {
   "cell_type": "code",
   "execution_count": 5,
   "metadata": {
    "collapsed": true
   },
   "outputs": [],
   "source": [
    "for peak in peaks:\n",
    "    \n",
    "    for i in range(1,l+1):\n",
    "        '''combine simple grids with different resolutions'''\n",
    "        g_h = grid_based_mapping(peak.h,w_h)\n",
    "        g_c = grid_based_mapping(peak.c,w_c)\n",
    "        peak.word_map.append((g_h,g_c,0,0,i))\n",
    "    \n",
    "        for j in range(1,k):\n",
    "            word=[]\n",
    "            # calculate the shifted grid mapping in direction 1 (1,0)\n",
    "            g_c_shifted = grid_based_mapping(peak.c+(i/(k*w_c)),w_c)\n",
    "            word.append((g_c_shifted,g_h,j,1,i))\n",
    "            \n",
    "            # calculate the shifted grid mapping in direction 2 (0,1)\n",
    "            g_h_shifted = grid_based_mapping(peak.h,w_h+(i/(k*w_h)))\n",
    "            word.append((g_c,g_h_shifted,j,2,i))\n",
    "            \n",
    "            # calculate the shifted grid mapping in direction 3 (1,1)\n",
    "            word.append((g_c_shifted,g_h_shifted,j,3,i))\n",
    "            \n",
    "            peak.map_peak_to_word(word)"
   ]
  },
  {
   "cell_type": "code",
   "execution_count": 7,
   "metadata": {},
   "outputs": [
    {
     "data": {
      "text/plain": [
       "[(20, 37, 0, 0, 1),\n",
       " (37, 20, 1, 1, 1),\n",
       " (37, 5, 1, 2, 1),\n",
       " (37, 5, 1, 3, 1),\n",
       " (20, 37, 0, 0, 2),\n",
       " (37, 20, 1, 1, 2),\n",
       " (37, 2, 1, 2, 2),\n",
       " (37, 2, 1, 3, 2)]"
      ]
     },
     "execution_count": 7,
     "metadata": {},
     "output_type": "execute_result"
    }
   ],
   "source": [
    "peaks[2].word_map"
   ]
  },
  {
   "cell_type": "code",
   "execution_count": null,
   "metadata": {
    "collapsed": true
   },
   "outputs": [],
   "source": []
  }
 ],
 "metadata": {
  "kernelspec": {
   "display_name": "Python 3",
   "language": "python",
   "name": "python3"
  },
  "language_info": {
   "codemirror_mode": {
    "name": "ipython",
    "version": 3
   },
   "file_extension": ".py",
   "mimetype": "text/x-python",
   "name": "python",
   "nbconvert_exporter": "python",
   "pygments_lexer": "ipython3",
   "version": "3.6.1"
  }
 },
 "nbformat": 4,
 "nbformat_minor": 2
}
