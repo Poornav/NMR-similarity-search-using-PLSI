{
 "cells": [
  {
   "cell_type": "code",
   "execution_count": 2,
   "metadata": {
    "collapsed": true
   },
   "outputs": [],
   "source": [
    "class Peak:\n",
    "    def __init__(self):\n",
    "        # compound to which the NMR belongs\n",
    "        self.compound = None\n",
    "        # family to which the compound belongs\n",
    "        self.family = None\n",
    "        # x and y coordinates (h and c values) of a peak\n",
    "        self.h = None \n",
    "        self.c = None\n",
    "        # mappings of peaks to words\n",
    "        self.word_map = list(set())\n",
    "\n",
    "    def map_peak_to_word(word):\n",
    "        '''This method takes a set as an argument and appends it to word_map'''\n",
    "        self.word_map.append(word)\n",
    "    \n",
    "    def map_peak_to_word(word):\n",
    "        '''Overloaded function that takes a list(set) as an argument and concatenates it with word_map'''\n",
    "        self.word_map = self.word_map + word"
   ]
  },
  {
   "cell_type": "code",
   "execution_count": null,
   "metadata": {
    "collapsed": true
   },
   "outputs": [],
   "source": []
  }
 ],
 "metadata": {
  "kernelspec": {
   "display_name": "Python 3",
   "language": "python",
   "name": "python3"
  },
  "language_info": {
   "codemirror_mode": {
    "name": "ipython",
    "version": 3
   },
   "file_extension": ".py",
   "mimetype": "text/x-python",
   "name": "python",
   "nbconvert_exporter": "python",
   "pygments_lexer": "ipython3",
   "version": "3.6.1"
  }
 },
 "nbformat": 4,
 "nbformat_minor": 2
}
